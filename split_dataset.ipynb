{
 "cells": [
  {
   "cell_type": "code",
   "execution_count": 1,
   "metadata": {},
   "outputs": [],
   "source": [
    "import pandas as pd\n",
    "import numpy as np\n",
    "import matplotlib.pyplot as plt"
   ]
  },
  {
   "cell_type": "code",
   "execution_count": 2,
   "metadata": {},
   "outputs": [
    {
     "name": "stderr",
     "output_type": "stream",
     "text": [
      "/tmp/ipykernel_17998/2771396363.py:1: DtypeWarning: Columns (0) have mixed types. Specify dtype option on import or set low_memory=False.\n",
      "  df = pd.read_csv(\"/hpc/compgen/users/cchang/Projects/gene_exp_VAE/data/SyNet_Normalized_Expression_Batchcorrected_Labeled_Filtered_Data_Only.csv\", index_col=0)\n"
     ]
    },
    {
     "name": "stdout",
     "output_type": "stream",
     "text": [
      "   GSM107072;Pawitan  GSM107073;Pawitan  GSM107074;Pawitan  GSM107075;Pawitan  \\\n",
      "0           3.629049           5.280801           5.242942           4.587148   \n",
      "1           4.332263           4.463688           3.707902           3.915789   \n",
      "2           5.242035           4.169501           4.486855           4.602680   \n",
      "3           4.884504           3.731322           3.508488           4.501715   \n",
      "4           4.219822           4.804504           3.966309           3.728912   \n",
      "\n",
      "   GSM107076;Pawitan  GSM107077;Pawitan  GSM107078;Pawitan  GSM107079;Pawitan  \\\n",
      "0           4.157379           4.954873           4.576248           4.935607   \n",
      "1           4.222221           4.147906           4.513669           4.028902   \n",
      "2           4.063071           4.252299           3.543621           5.058134   \n",
      "3           4.201238           3.440060           4.393966           5.469683   \n",
      "4           3.943046           4.062714           4.670924           4.612529   \n",
      "\n",
      "   GSM107080;Pawitan  GSM107081;Pawitan  ...  TCGA-AO-A126-01;TCGA  \\\n",
      "0           4.565468           5.323089  ...              3.935817   \n",
      "1           4.864491           5.635009  ...              4.050414   \n",
      "2           4.408471           4.092966  ...              4.705576   \n",
      "3           4.310448           3.852134  ...              4.364457   \n",
      "4           4.112489           4.252914  ...              3.672407   \n",
      "\n",
      "   TCGA-AN-A0XL-01;TCGA  TCGA-AQ-A04H-01;TCGA  TCGA-E2-A106-01;TCGA  \\\n",
      "0              4.612530              4.115938              4.623928   \n",
      "1              4.080384              4.025762              3.235018   \n",
      "2              3.424029              4.455273              3.674315   \n",
      "3              4.814460              4.169469              3.953367   \n",
      "4              4.808408              4.156502              3.826710   \n",
      "\n",
      "   TCGA-AO-A12C-01;TCGA  TCGA-E2-A108-01;TCGA  TCGA-BH-A0B2-01;TCGA  \\\n",
      "0              4.185827              4.639975              4.573905   \n",
      "1              3.996486              5.317841              5.039106   \n",
      "2              4.592464              4.501536              4.526575   \n",
      "3              4.544988              5.035724              5.079771   \n",
      "4              4.459230              3.866932              4.452758   \n",
      "\n",
      "   TCGA-AO-A12B-01;TCGA  TCGA-E2-A109-01;TCGA  TCGA-AO-A128-01;TCGA  \n",
      "0              3.810780              3.982940              3.717678  \n",
      "1              3.794421              3.964181              5.377281  \n",
      "2              3.690796              5.065513              4.025264  \n",
      "3              3.623044              3.975642              4.060785  \n",
      "4              3.016945              4.581178              4.640118  \n",
      "\n",
      "[5 rows x 3970 columns]\n"
     ]
    }
   ],
   "source": [
    "df = pd.read_csv(\"/hpc/compgen/users/cchang/Projects/gene_exp_VAE/data/SyNet_Normalized_Expression_Batchcorrected_Labeled_Filtered_Data_Only.csv\", index_col=0)\n",
    "print(df.head())\n"
   ]
  },
  {
   "cell_type": "code",
   "execution_count": 4,
   "metadata": {},
   "outputs": [
    {
     "name": "stdout",
     "output_type": "stream",
     "text": [
      "       GSM107072;Pawitan  GSM107073;Pawitan  GSM107074;Pawitan  \\\n",
      "11743           5.114423           4.500965           4.126470   \n",
      "11744           4.181805           5.370797           4.975893   \n",
      "11745           4.164249           3.530899           4.080236   \n",
      "11746           4.194224           3.458629           4.035481   \n",
      "11747           4.762019           6.531339           3.983910   \n",
      "\n",
      "       GSM107075;Pawitan  GSM107076;Pawitan  GSM107077;Pawitan  \\\n",
      "11743           3.129959           4.164182           4.310675   \n",
      "11744           4.656618           5.065881           5.042039   \n",
      "11745           4.360459           4.060047           3.245546   \n",
      "11746           5.151594           3.714482           3.946568   \n",
      "11747           4.087891           4.630151           4.830090   \n",
      "\n",
      "       GSM107078;Pawitan  GSM107079;Pawitan  GSM107080;Pawitan  \\\n",
      "11743           4.441228           4.755584           5.204846   \n",
      "11744           4.745696           4.369580           4.787775   \n",
      "11745           4.483982           4.728747           5.562333   \n",
      "11746           3.732450           4.192103           5.558449   \n",
      "11747           4.521860           3.575292           4.311377   \n",
      "\n",
      "       GSM107081;Pawitan  ...  TCGA-AO-A126-01;TCGA  TCGA-AN-A0XL-01;TCGA  \\\n",
      "11743           5.038416  ...              4.319781              3.836282   \n",
      "11744           4.865477  ...              4.686425              4.381142   \n",
      "11745           4.296670  ...              5.350998              4.091562   \n",
      "11746           3.494430  ...              3.793907              4.718094   \n",
      "11747           5.015700  ...              4.220087              4.108787   \n",
      "\n",
      "       TCGA-AQ-A04H-01;TCGA  TCGA-E2-A106-01;TCGA  TCGA-AO-A12C-01;TCGA  \\\n",
      "11743              5.155671              4.598045              4.435237   \n",
      "11744              3.535047              4.101880              4.889450   \n",
      "11745              3.980439              4.033849              3.813475   \n",
      "11746              4.785552              3.847064              3.371154   \n",
      "11747              4.703978              3.950621              4.158072   \n",
      "\n",
      "       TCGA-E2-A108-01;TCGA  TCGA-BH-A0B2-01;TCGA  TCGA-AO-A12B-01;TCGA  \\\n",
      "11743              4.209458              4.283245              3.590420   \n",
      "11744              3.875621              4.281827              4.171533   \n",
      "11745              4.264133              4.978350              5.020761   \n",
      "11746              4.589717              4.216605              4.889360   \n",
      "11747              4.055908              4.672804              5.377599   \n",
      "\n",
      "       TCGA-E2-A109-01;TCGA  TCGA-AO-A128-01;TCGA  \n",
      "11743              4.048129              4.953176  \n",
      "11744              4.584197              4.270049  \n",
      "11745              4.708747              3.609987  \n",
      "11746              3.924691              4.685001  \n",
      "11747              4.746932              5.615012  \n",
      "\n",
      "[5 rows x 3970 columns]\n"
     ]
    }
   ],
   "source": [
    "df = df.iloc[:-1, :]\n",
    "print(df.tail())"
   ]
  },
  {
   "cell_type": "code",
   "execution_count": 6,
   "metadata": {},
   "outputs": [
    {
     "name": "stdout",
     "output_type": "stream",
     "text": [
      "[[-0.60251665  0.30339016  0.28033907 ... -0.37786997 -0.2982342\n",
      "  -0.42050508]\n",
      " [-0.21714469 -0.14626653 -0.56461446 ... -0.38583091 -0.30740355\n",
      "   0.38552677]\n",
      " [ 0.2814234  -0.30815687 -0.1358441  ... -0.43625668  0.23093531\n",
      "  -0.27111731]\n",
      " ...\n",
      " [-0.30921923 -0.65957925 -0.35966525 ...  0.21093143  0.05654576\n",
      "  -0.47280828]\n",
      " [-0.29279227 -0.69934924 -0.38430053 ...  0.14698923 -0.32670686\n",
      "   0.04930219]\n",
      " [ 0.01836773  0.99156014 -0.41268744 ...  0.38457623  0.07521055\n",
      "   0.50098755]]\n"
     ]
    }
   ],
   "source": [
    "from sklearn.preprocessing import MinMaxScaler\n",
    "scaler = MinMaxScaler(feature_range=(-1, 1))\n",
    "df_scaled = scaler.fit_transform(df)\n",
    "print(df_scaled)\n",
    "# See https://stackoverflow.com/questions/61032867/how-to-scale-data-between-1-and-1-in-pandas. "
   ]
  },
  {
   "cell_type": "code",
   "execution_count": 23,
   "metadata": {},
   "outputs": [
    {
     "name": "stdout",
     "output_type": "stream",
     "text": [
      "            sample_id study_name split_label batch_label\n",
      "0           GSM107072    Pawitan       train           E\n",
      "1           GSM107073    Pawitan       train           E\n",
      "2           GSM107074    Pawitan       train           E\n",
      "3           GSM107075    Pawitan       train           E\n",
      "4           GSM107076    Pawitan       train           E\n",
      "...               ...        ...         ...         ...\n",
      "3965  TCGA-E2-A108-01       TCGA         val           L\n",
      "3966  TCGA-BH-A0B2-01       TCGA         val           L\n",
      "3967  TCGA-AO-A12B-01       TCGA         val           L\n",
      "3968  TCGA-E2-A109-01       TCGA         val           L\n",
      "3969  TCGA-AO-A128-01       TCGA         val           L\n",
      "\n",
      "[3970 rows x 4 columns]\n"
     ]
    }
   ],
   "source": [
    "# Create new df for batch labels\n",
    "import string\n",
    "\n",
    "id_list = []\n",
    "study_list = []\n",
    "split_label_list = []\n",
    "\n",
    "# Take the head of the df\n",
    "sample_header_list = list(df)\n",
    "\n",
    "\n",
    "for name in sample_header_list:\n",
    "    split = name.split(';') \n",
    "    id_list.append(split[0])\n",
    "    study_list.append(split[1])\n",
    "    if split[1] == 'TCGA':\n",
    "        split_label_list.append('val')\n",
    "    elif split[1] == 'Miller' or split[1] == 'Minn':\n",
    "        split_label_list.append('test')\n",
    "    else:\n",
    "        split_label_list.append('train')\n",
    "        \n",
    "study_name_list = set(study_list)\n",
    "batch_label_list = list(string.ascii_uppercase[:len(study_name_list)])\n",
    "study_name_dict = dict(zip(study_name_list, batch_label_list))\n",
    "\n",
    "if len(id_list) == len(study_list) == len(split_label_list):\n",
    "    df_batch_label = pd.DataFrame(list(zip(id_list, study_list, split_label_list)), columns=['sample_id', 'study_name', 'split_label'])\n",
    "\n",
    "df_batch_label['batch_label'] = df_batch_label['study_name'].apply (lambda x: study_name_dict.get(x))\n",
    "\n",
    "print(df_batch_label)"
   ]
  }
 ],
 "metadata": {
  "kernelspec": {
   "display_name": "Python 3 (ipykernel)",
   "language": "python",
   "name": "python3"
  },
  "orig_nbformat": 4
 },
 "nbformat": 4,
 "nbformat_minor": 2
}

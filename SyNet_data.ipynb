{
 "cells": [
  {
   "cell_type": "code",
   "execution_count": 1,
   "metadata": {},
   "outputs": [],
   "source": [
    "import pandas as pd\n",
    "import numpy as np\n",
    "import matplotlib.pyplot as plt"
   ]
  },
  {
   "cell_type": "code",
   "execution_count": 9,
   "metadata": {},
   "outputs": [
    {
     "name": "stdout",
     "output_type": "stream",
     "text": [
      "   SurvivalTime  Prognostic_Status  Age Subtype  ERStatus  Her2Status  \\\n",
      "0        1394.0                  1  NaN    LumB       NaN         0.0   \n",
      "1        2974.0                  0  NaN    LumB       NaN         0.0   \n",
      "2        3051.0                  0  NaN    LumA       NaN         0.0   \n",
      "3        3003.0                  0  NaN    LumA       NaN         1.0   \n",
      "4        2945.0                  0  NaN    LumB       NaN         0.0   \n",
      "\n",
      "   PGRStatus  Grade  LymphNodeStatus  TumorSize  ... RFSEvent  RFSTime  \\\n",
      "0        NaN    2.0              NaN        NaN  ...      1.0   1394.0   \n",
      "1        NaN    3.0              NaN        NaN  ...      0.0   2974.0   \n",
      "2        NaN    1.0              NaN        NaN  ...      0.0   3051.0   \n",
      "3        NaN    2.0              NaN        NaN  ...      0.0   3003.0   \n",
      "4        NaN    NaN              NaN        NaN  ...      0.0   2945.0   \n",
      "\n",
      "   DMFSEvent  DMFSTime  OSEvent  OSTime  PatientID Treatment StudyName  \\\n",
      "0        NaN       NaN      NaN     NaN  GSM107072       NaN   Pawitan   \n",
      "1        NaN       NaN      NaN     NaN  GSM107073       NaN   Pawitan   \n",
      "2        NaN       NaN      NaN     NaN  GSM107074       NaN   Pawitan   \n",
      "3        NaN       NaN      NaN     NaN  GSM107075       NaN   Pawitan   \n",
      "4        NaN       NaN      NaN     NaN  GSM107076       NaN   Pawitan   \n",
      "\n",
      "  Source_Study  \n",
      "0         ACES  \n",
      "1         ACES  \n",
      "2         ACES  \n",
      "3         ACES  \n",
      "4         ACES  \n",
      "\n",
      "[5 rows x 21 columns]\n"
     ]
    }
   ],
   "source": [
    "df_patient_info = pd.read_csv(\"/hpc/compgen/projects/cancer_gene_expression_representation_learning/raw/SyNetData/Patient_information.csv\")\n",
    "print(df_patient_info.head())"
   ]
  },
  {
   "cell_type": "code",
   "execution_count": 14,
   "metadata": {},
   "outputs": [],
   "source": [
    "df_count_study = df_patient_info.loc[:, ['StudyName']].value_counts().reset_index()\n",
    "df_count_study.to_csv(\"/hpc/compgen/users/cchang/Projects/gene_exp_VAE/data/StudyNameCount.csv\")"
   ]
  },
  {
   "cell_type": "code",
   "execution_count": 2,
   "metadata": {},
   "outputs": [],
   "source": [
    "df_surv_labeled = pd.read_csv(\"/hpc/compgen/users/cchang/Projects/gene_exp_VAE/data/SyNet_Normalized_Expression_Par_Surv_Labeled.csv\", index_col=0)\n",
    "df_T = df_surv_labeled.T\n",
    "\n"
   ]
  },
  {
   "cell_type": "code",
   "execution_count": 7,
   "metadata": {},
   "outputs": [
    {
     "name": "stdout",
     "output_type": "stream",
     "text": [
      "   GSM107072;Pawitan  GSM107073;Pawitan  GSM107074;Pawitan  GSM107075;Pawitan  \\\n",
      "0           3.629049           5.280801           5.242942           4.587148   \n",
      "1           4.332263           4.463688           3.707902           3.915789   \n",
      "2           5.242035           4.169501           4.486855           4.602680   \n",
      "3           4.884504           3.731322           3.508488           4.501715   \n",
      "4           4.219822           4.804504           3.966309           3.728912   \n",
      "\n",
      "   GSM107076;Pawitan  GSM107077;Pawitan  GSM107078;Pawitan  GSM107079;Pawitan  \\\n",
      "0           4.157379           4.954873           4.576248           4.935607   \n",
      "1           4.222221           4.147906           4.513669           4.028902   \n",
      "2           4.063071           4.252299           3.543621           5.058134   \n",
      "3           4.201238           3.440060           4.393966           5.469683   \n",
      "4           3.943046           4.062714           4.670924           4.612529   \n",
      "\n",
      "   GSM107080;Pawitan  GSM107081;Pawitan  ...  TCGA-AO-A126-01;TCGA  \\\n",
      "0           4.565468           5.323089  ...              3.935817   \n",
      "1           4.864491           5.635009  ...              4.050414   \n",
      "2           4.408471           4.092966  ...              4.705576   \n",
      "3           4.310448           3.852134  ...              4.364457   \n",
      "4           4.112489           4.252914  ...              3.672407   \n",
      "\n",
      "   TCGA-AN-A0XL-01;TCGA  TCGA-AQ-A04H-01;TCGA  TCGA-E2-A106-01;TCGA  \\\n",
      "0              4.612530              4.115938              4.623928   \n",
      "1              4.080384              4.025762              3.235018   \n",
      "2              3.424029              4.455273              3.674315   \n",
      "3              4.814460              4.169469              3.953367   \n",
      "4              4.808408              4.156502              3.826710   \n",
      "\n",
      "   TCGA-AO-A12C-01;TCGA  TCGA-E2-A108-01;TCGA  TCGA-BH-A0B2-01;TCGA  \\\n",
      "0              4.185827              4.639975              4.573905   \n",
      "1              3.996486              5.317841              5.039106   \n",
      "2              4.592464              4.501536              4.526575   \n",
      "3              4.544988              5.035724              5.079771   \n",
      "4              4.459230              3.866932              4.452758   \n",
      "\n",
      "   TCGA-AO-A12B-01;TCGA  TCGA-E2-A109-01;TCGA  TCGA-AO-A128-01;TCGA  \n",
      "0              3.810780              3.982940              3.717678  \n",
      "1              3.794421              3.964181              5.377281  \n",
      "2              3.690796              5.065513              4.025264  \n",
      "3              3.623044              3.975642              4.060785  \n",
      "4              3.016945              4.581178              4.640118  \n",
      "\n",
      "[5 rows x 4129 columns]\n",
      "(11749, 3970)\n"
     ]
    }
   ],
   "source": [
    "# Make filtered gene_exp + survival dataset without Loi and Ivshina\n",
    "print(df_T.head())\n",
    "df_filtered = df_T.drop([col for col in df_T.columns if 'Loi' in col or 'Ivshina' in col], axis=1)\n",
    "print(df_filtered.shape)\n",
    "df_filtered.to_csv(\"/hpc/compgen/users/cchang/Projects/gene_exp_VAE/data/SyNet_Normalized_Expression_Batchcorrected_Labeled_Filtered_Data_Only.csv\")"
   ]
  },
  {
   "cell_type": "code",
   "execution_count": 17,
   "metadata": {},
   "outputs": [],
   "source": [
    "# df_gene_exp_labeled.shape\n",
    "df_test_gene_exp = df_T.loc[:,[col for col in df_gene_exp_labeled.columns if 'Schmidt' in col or 'WangY-ErasmusMC' in col]]\n",
    "df_train_gene_exp = df_T.drop([col for col in df_gene_exp_labeled.columns if 'Schmidt' in col or 'WangY-ErasmusMC' in col], axis=1)\n",
    "\n",
    "# print(df_test_gene_exp.head())\n",
    "# print(df_train_gene_exp.head())\n"
   ]
  },
  {
   "cell_type": "code",
   "execution_count": 18,
   "metadata": {},
   "outputs": [
    {
     "name": "stdout",
     "output_type": "stream",
     "text": [
      "                                 0         1         2         3         4  \\\n",
      "GSM36777;WangY-ErasmusMC  4.479006  4.538666  4.556478  4.714976  4.610552   \n",
      "GSM36779;WangY-ErasmusMC  4.400295  3.299735  3.897792  3.287660  4.535668   \n",
      "GSM36780;WangY-ErasmusMC  4.640632  4.202013  4.496096  3.657854  4.242458   \n",
      "GSM36781;WangY-ErasmusMC  4.588017  3.804802  4.914319  3.926866  4.643802   \n",
      "GSM36782;WangY-ErasmusMC  4.782092  3.938943  3.434446  5.066493  4.745569   \n",
      "\n",
      "                                 5         6         7         8         9  \\\n",
      "GSM36777;WangY-ErasmusMC  4.566487  4.423365  4.405725  5.841774  4.693470   \n",
      "GSM36779;WangY-ErasmusMC  4.363115  4.148425  4.313651  5.702444  4.548144   \n",
      "GSM36780;WangY-ErasmusMC  4.165044  4.601709  5.149597  5.478764  5.054272   \n",
      "GSM36781;WangY-ErasmusMC  3.949872  3.770622  5.201658  5.267118  4.344408   \n",
      "GSM36782;WangY-ErasmusMC  4.572825  4.743210  5.547272  4.202519  5.192734   \n",
      "\n",
      "                          ...     11738     11739     11740     11741  \\\n",
      "GSM36777;WangY-ErasmusMC  ...  4.194498  4.091450  4.317612  4.960008   \n",
      "GSM36779;WangY-ErasmusMC  ...  4.788619  3.417636  4.393371  4.462969   \n",
      "GSM36780;WangY-ErasmusMC  ...  3.363343  3.334168  4.248191  5.509078   \n",
      "GSM36781;WangY-ErasmusMC  ...  3.720867  4.581229  3.695303  4.373787   \n",
      "GSM36782;WangY-ErasmusMC  ...  4.542632  4.508028  4.056165  3.477333   \n",
      "\n",
      "                             11742     11743     11744     11745     11746  \\\n",
      "GSM36777;WangY-ErasmusMC  3.908326  3.415702  3.813893  3.712610  4.491509   \n",
      "GSM36779;WangY-ErasmusMC  4.370029  4.425707  4.774960  4.835668  4.087159   \n",
      "GSM36780;WangY-ErasmusMC  4.996536  4.831782  4.109833  4.260223  3.676281   \n",
      "GSM36781;WangY-ErasmusMC  5.382992  4.117565  4.261409  4.067609  4.788888   \n",
      "GSM36782;WangY-ErasmusMC  4.364582  4.006636  4.601932  4.168896  4.485754   \n",
      "\n",
      "                             11747  \n",
      "GSM36777;WangY-ErasmusMC  3.749555  \n",
      "GSM36779;WangY-ErasmusMC  5.384219  \n",
      "GSM36780;WangY-ErasmusMC  4.205478  \n",
      "GSM36781;WangY-ErasmusMC  4.488886  \n",
      "GSM36782;WangY-ErasmusMC  3.689800  \n",
      "\n",
      "[5 rows x 11748 columns]\n"
     ]
    }
   ],
   "source": [
    "df_test_data = df_test_gene_exp.T.iloc[:, :-1]\n",
    "df_test_label = df_test_gene_exp.T.iloc[:, -1]\n",
    "df_train_data = df_train_gene_exp.T.iloc[:, :-1]\n",
    "df_train_label = df_train_gene_exp.T.iloc[:, -1]\n",
    "\n",
    "print(df_test_data.head())\n",
    "# print(df_test_label.head())"
   ]
  },
  {
   "cell_type": "code",
   "execution_count": 21,
   "metadata": {},
   "outputs": [
    {
     "name": "stdout",
     "output_type": "stream",
     "text": [
      "(3702, 11748)\n"
     ]
    }
   ],
   "source": [
    "print(df_train_data.shape)"
   ]
  },
  {
   "cell_type": "code",
   "execution_count": 23,
   "metadata": {},
   "outputs": [],
   "source": [
    "df_test_data.to_csv(\"/hpc/compgen/users/cchang/Projects/gene_exp_VAE/data/df_test_data_gene_exp.csv\", index=True, header=True)\n",
    "df_test_label.to_csv(\"/hpc/compgen/users/cchang/Projects/gene_exp_VAE/data/df_test_label_gene_exp.csv\", index=True, header=True)\n",
    "df_train_data.to_csv(\"/hpc/compgen/users/cchang/Projects/gene_exp_VAE/data/df_train_data_gene_exp.csv\", index=True, header=True)\n",
    "df_train_label.to_csv(\"/hpc/compgen/users/cchang/Projects/gene_exp_VAE/data/df_train_label_gene_exp.csv\", index=True, header=True)"
   ]
  },
  {
   "cell_type": "code",
   "execution_count": 25,
   "metadata": {},
   "outputs": [
    {
     "name": "stdout",
     "output_type": "stream",
     "text": [
      "                   Unnamed: 0         0         1         2         3  \\\n",
      "0    GSM36777;WangY-ErasmusMC  4.479006  4.538666  4.556478  4.714976   \n",
      "1    GSM36779;WangY-ErasmusMC  4.400295  3.299735  3.897792  3.287660   \n",
      "2    GSM36780;WangY-ErasmusMC  4.640632  4.202013  4.496096  3.657854   \n",
      "3    GSM36781;WangY-ErasmusMC  4.588017  3.804802  4.914319  3.926866   \n",
      "4    GSM36782;WangY-ErasmusMC  4.782092  3.938943  3.434446  5.066493   \n",
      "..                        ...       ...       ...       ...       ...   \n",
      "421         GSM282564;Schmidt  3.927846  4.321619  5.254738  5.051602   \n",
      "422         GSM282566;Schmidt  3.251527  4.080751  5.193285  4.147511   \n",
      "423         GSM282567;Schmidt  3.740002  4.771103  3.909987  3.523916   \n",
      "424         GSM282568;Schmidt  5.107068  4.915380  3.573873  4.494527   \n",
      "425         GSM282569;Schmidt  3.755048  4.722985  5.427353  6.077226   \n",
      "\n",
      "            4         5         6         7         8  ...     11738  \\\n",
      "0    4.610552  4.566487  4.423365  4.405725  5.841774  ...  4.194498   \n",
      "1    4.535668  4.363115  4.148425  4.313651  5.702444  ...  4.788619   \n",
      "2    4.242458  4.165044  4.601709  5.149597  5.478764  ...  3.363343   \n",
      "3    4.643802  3.949872  3.770622  5.201658  5.267118  ...  3.720867   \n",
      "4    4.745569  4.572825  4.743210  5.547272  4.202519  ...  4.542632   \n",
      "..        ...       ...       ...       ...       ...  ...       ...   \n",
      "421  4.466731  4.758850  4.715391  5.878460  3.490942  ...  4.217156   \n",
      "422  4.344045  5.058911  5.313506  3.841853  3.930671  ...  4.404216   \n",
      "423  3.947043  5.078927  4.117303  3.552231  4.052831  ...  4.224697   \n",
      "424  4.139614  4.551992  3.721784  4.413204  5.483311  ...  5.898035   \n",
      "425  4.096881  4.356714  3.911718  5.529413  3.267742  ...  3.719578   \n",
      "\n",
      "        11739     11740     11741     11742     11743     11744     11745  \\\n",
      "0    4.091450  4.317612  4.960008  3.908326  3.415702  3.813893  3.712610   \n",
      "1    3.417636  4.393371  4.462969  4.370029  4.425707  4.774960  4.835668   \n",
      "2    3.334168  4.248191  5.509078  4.996536  4.831782  4.109833  4.260223   \n",
      "3    4.581229  3.695303  4.373787  5.382992  4.117565  4.261409  4.067609   \n",
      "4    4.508028  4.056165  3.477333  4.364582  4.006636  4.601932  4.168896   \n",
      "..        ...       ...       ...       ...       ...       ...       ...   \n",
      "421  4.591117  4.752718  4.576432  3.391817  3.762699  4.143903  5.050953   \n",
      "422  5.425770  4.581874  3.629610  3.296933  4.033672  3.350432  5.582685   \n",
      "423  4.914830  3.864404  4.897645  4.082054  3.816257  3.923837  6.069344   \n",
      "424  4.203204  4.717875  4.120678  3.825067  4.640115  3.985259  4.901472   \n",
      "425  4.260379  3.789575  4.433689  4.446957  4.103990  4.368896  6.443834   \n",
      "\n",
      "        11746     11747  \n",
      "0    4.491509  3.749555  \n",
      "1    4.087159  5.384219  \n",
      "2    3.676281  4.205478  \n",
      "3    4.788888  4.488886  \n",
      "4    4.485754  3.689800  \n",
      "..        ...       ...  \n",
      "421  4.644569  4.312269  \n",
      "422  5.632273  4.439541  \n",
      "423  4.581345  5.057417  \n",
      "424  6.418481  3.543865  \n",
      "425  4.562035  6.422341  \n",
      "\n",
      "[426 rows x 11749 columns]\n"
     ]
    }
   ],
   "source": [
    "print(pd.read_csv(\"/hpc/compgen/users/cchang/Projects/gene_exp_VAE/data/df_test_data_gene_exp.csv\"))"
   ]
  }
 ],
 "metadata": {
  "kernelspec": {
   "display_name": "Python 3 (ipykernel)",
   "language": "python",
   "name": "python3"
  },
  "orig_nbformat": 4,
  "vscode": {
   "interpreter": {
    "hash": "3b820a2e680ab998eddedaad569ec69ec2ef4b5a81985198669a2e112450d062"
   }
  }
 },
 "nbformat": 4,
 "nbformat_minor": 2
}
